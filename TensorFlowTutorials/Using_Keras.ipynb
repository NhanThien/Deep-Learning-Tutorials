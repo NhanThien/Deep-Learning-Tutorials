{
  "nbformat": 4,
  "nbformat_minor": 0,
  "metadata": {
    "colab": {
      "name": "Using Keras.ipynb",
      "version": "0.3.2",
      "provenance": []
    },
    "kernelspec": {
      "name": "python3",
      "display_name": "Python 3"
    },
    "accelerator": "GPU"
  },
  "cells": [
    {
      "metadata": {
        "id": "R2BzSXivqHUP",
        "colab_type": "code",
        "outputId": "c86a7f0f-bafa-4e8e-de24-bcd2f97fb90f",
        "colab": {
          "base_uri": "https://localhost:8080/",
          "height": 1277
        }
      },
      "cell_type": "code",
      "source": [
        "from tensorflow import keras\n",
        "\n",
        "# Load fashion_mnist dataset\n",
        "(train_images, train_labels),(test_images, test_labels) = keras.datasets.fashion_mnist.load_data()\n",
        "\n",
        "# The name of each class in the dataset\n",
        "class_names = ['T-shirt/top', 'Trouser', 'Pullover', 'Dress', 'Coat','Sandal', 'Shirt', 'Sneaker', 'Bag', 'Ankle boot']\n",
        "\n",
        "print('Train image: ',train_images.shape)\n",
        "print('Train label: ',train_labels.shape)\n",
        "print('Test image: ',test_images.shape)\n",
        "print('Test label: ',test_labels.shape)\n",
        "print('Train labels: ',train_labels)\n",
        "print('The first train image: \\n',train_images[0])"
      ],
      "execution_count": 1,
      "outputs": [
        {
          "output_type": "stream",
          "text": [
            "Downloading data from https://storage.googleapis.com/tensorflow/tf-keras-datasets/train-labels-idx1-ubyte.gz\n",
            "32768/29515 [=================================] - 0s 0us/step\n",
            "Downloading data from https://storage.googleapis.com/tensorflow/tf-keras-datasets/train-images-idx3-ubyte.gz\n",
            "26427392/26421880 [==============================] - 0s 0us/step\n",
            "Downloading data from https://storage.googleapis.com/tensorflow/tf-keras-datasets/t10k-labels-idx1-ubyte.gz\n",
            "8192/5148 [===============================================] - 0s 0us/step\n",
            "Downloading data from https://storage.googleapis.com/tensorflow/tf-keras-datasets/t10k-images-idx3-ubyte.gz\n",
            "4423680/4422102 [==============================] - 0s 0us/step\n",
            "Train image:  (60000, 28, 28)\n",
            "Train label:  (60000,)\n",
            "Test image:  (10000, 28, 28)\n",
            "Test label:  (10000,)\n",
            "Train labels:  [9 0 0 ... 3 0 5]\n",
            "The first train image: \n",
            " [[  0   0   0   0   0   0   0   0   0   0   0   0   0   0   0   0   0   0\n",
            "    0   0   0   0   0   0   0   0   0   0]\n",
            " [  0   0   0   0   0   0   0   0   0   0   0   0   0   0   0   0   0   0\n",
            "    0   0   0   0   0   0   0   0   0   0]\n",
            " [  0   0   0   0   0   0   0   0   0   0   0   0   0   0   0   0   0   0\n",
            "    0   0   0   0   0   0   0   0   0   0]\n",
            " [  0   0   0   0   0   0   0   0   0   0   0   0   1   0   0  13  73   0\n",
            "    0   1   4   0   0   0   0   1   1   0]\n",
            " [  0   0   0   0   0   0   0   0   0   0   0   0   3   0  36 136 127  62\n",
            "   54   0   0   0   1   3   4   0   0   3]\n",
            " [  0   0   0   0   0   0   0   0   0   0   0   0   6   0 102 204 176 134\n",
            "  144 123  23   0   0   0   0  12  10   0]\n",
            " [  0   0   0   0   0   0   0   0   0   0   0   0   0   0 155 236 207 178\n",
            "  107 156 161 109  64  23  77 130  72  15]\n",
            " [  0   0   0   0   0   0   0   0   0   0   0   1   0  69 207 223 218 216\n",
            "  216 163 127 121 122 146 141  88 172  66]\n",
            " [  0   0   0   0   0   0   0   0   0   1   1   1   0 200 232 232 233 229\n",
            "  223 223 215 213 164 127 123 196 229   0]\n",
            " [  0   0   0   0   0   0   0   0   0   0   0   0   0 183 225 216 223 228\n",
            "  235 227 224 222 224 221 223 245 173   0]\n",
            " [  0   0   0   0   0   0   0   0   0   0   0   0   0 193 228 218 213 198\n",
            "  180 212 210 211 213 223 220 243 202   0]\n",
            " [  0   0   0   0   0   0   0   0   0   1   3   0  12 219 220 212 218 192\n",
            "  169 227 208 218 224 212 226 197 209  52]\n",
            " [  0   0   0   0   0   0   0   0   0   0   6   0  99 244 222 220 218 203\n",
            "  198 221 215 213 222 220 245 119 167  56]\n",
            " [  0   0   0   0   0   0   0   0   0   4   0   0  55 236 228 230 228 240\n",
            "  232 213 218 223 234 217 217 209  92   0]\n",
            " [  0   0   1   4   6   7   2   0   0   0   0   0 237 226 217 223 222 219\n",
            "  222 221 216 223 229 215 218 255  77   0]\n",
            " [  0   3   0   0   0   0   0   0   0  62 145 204 228 207 213 221 218 208\n",
            "  211 218 224 223 219 215 224 244 159   0]\n",
            " [  0   0   0   0  18  44  82 107 189 228 220 222 217 226 200 205 211 230\n",
            "  224 234 176 188 250 248 233 238 215   0]\n",
            " [  0  57 187 208 224 221 224 208 204 214 208 209 200 159 245 193 206 223\n",
            "  255 255 221 234 221 211 220 232 246   0]\n",
            " [  3 202 228 224 221 211 211 214 205 205 205 220 240  80 150 255 229 221\n",
            "  188 154 191 210 204 209 222 228 225   0]\n",
            " [ 98 233 198 210 222 229 229 234 249 220 194 215 217 241  65  73 106 117\n",
            "  168 219 221 215 217 223 223 224 229  29]\n",
            " [ 75 204 212 204 193 205 211 225 216 185 197 206 198 213 240 195 227 245\n",
            "  239 223 218 212 209 222 220 221 230  67]\n",
            " [ 48 203 183 194 213 197 185 190 194 192 202 214 219 221 220 236 225 216\n",
            "  199 206 186 181 177 172 181 205 206 115]\n",
            " [  0 122 219 193 179 171 183 196 204 210 213 207 211 210 200 196 194 191\n",
            "  195 191 198 192 176 156 167 177 210  92]\n",
            " [  0   0  74 189 212 191 175 172 175 181 185 188 189 188 193 198 204 209\n",
            "  210 210 211 188 188 194 192 216 170   0]\n",
            " [  2   0   0   0  66 200 222 237 239 242 246 243 244 221 220 193 191 179\n",
            "  182 182 181 176 166 168  99  58   0   0]\n",
            " [  0   0   0   0   0   0   0  40  61  44  72  41  35   0   0   0   0   0\n",
            "    0   0   0   0   0   0   0   0   0   0]\n",
            " [  0   0   0   0   0   0   0   0   0   0   0   0   0   0   0   0   0   0\n",
            "    0   0   0   0   0   0   0   0   0   0]\n",
            " [  0   0   0   0   0   0   0   0   0   0   0   0   0   0   0   0   0   0\n",
            "    0   0   0   0   0   0   0   0   0   0]]\n"
          ],
          "name": "stdout"
        }
      ]
    },
    {
      "metadata": {
        "id": "Fxe04HFDBmy-",
        "colab_type": "code",
        "outputId": "936972f4-4f60-4e62-d508-e4467f45034c",
        "colab": {
          "base_uri": "https://localhost:8080/",
          "height": 525
        }
      },
      "cell_type": "code",
      "source": [
        "import matplotlib.pyplot as plt\n",
        "\n",
        "# Display the first 15 images of the train data\n",
        "plt.figure(figsize=(10,10))\n",
        "for i in range(15):\n",
        "  plt.subplot(3,5,i+1)\n",
        "  plt.xticks([])\n",
        "  plt.yticks([])\n",
        "  plt.imshow(train_images[i])\n",
        "  plt.xlabel(class_names[train_labels[i]])"
      ],
      "execution_count": 2,
      "outputs": [
        {
          "output_type": "display_data",
          "data": {
            "image/png": "[encoded data removed]",
            "text/plain": [
              "<Figure size 720x720 with 15 Axes>"
            ]
          },
          "metadata": {
            "tags": []
          }
        }
      ]
    },
    {
      "metadata": {
        "id": "Rf7USvRmqbKs",
        "colab_type": "code",
        "outputId": "c552275e-60b2-4d8a-fcc2-72287a6c00fa",
        "colab": {
          "base_uri": "https://localhost:8080/",
          "height": 2555
        }
      },
      "cell_type": "code",
      "source": [
        "# Scale the value to [0,1]\n",
        "train_images=train_images/255\n",
        "test_images=test_images/255\n",
        "\n",
        "print('The first train image after normalization: \\n',train_images[0])"
      ],
      "execution_count": 3,
      "outputs": [
        {
          "output_type": "stream",
          "text": [
            "The first train image after normalization: \n",
            " [[0.         0.         0.         0.         0.         0.\n",
            "  0.         0.         0.         0.         0.         0.\n",
            "  0.         0.         0.         0.         0.         0.\n",
            "  0.         0.         0.         0.         0.         0.\n",
            "  0.         0.         0.         0.        ]\n",
            " [0.         0.         0.         0.         0.         0.\n",
            "  0.         0.         0.         0.         0.         0.\n",
            "  0.         0.         0.         0.         0.         0.\n",
            "  0.         0.         0.         0.         0.         0.\n",
            "  0.         0.         0.         0.        ]\n",
            " [0.         0.         0.         0.         0.         0.\n",
            "  0.         0.         0.         0.         0.         0.\n",
            "  0.         0.         0.         0.         0.         0.\n",
            "  0.         0.         0.         0.         0.         0.\n",
            "  0.         0.         0.         0.        ]\n",
            " [0.         0.         0.         0.         0.         0.\n",
            "  0.         0.         0.         0.         0.         0.\n",
            "  0.00392157 0.         0.         0.05098039 0.28627451 0.\n",
            "  0.         0.00392157 0.01568627 0.         0.         0.\n",
            "  0.         0.00392157 0.00392157 0.        ]\n",
            " [0.         0.         0.         0.         0.         0.\n",
            "  0.         0.         0.         0.         0.         0.\n",
            "  0.01176471 0.         0.14117647 0.53333333 0.49803922 0.24313725\n",
            "  0.21176471 0.         0.         0.         0.00392157 0.01176471\n",
            "  0.01568627 0.         0.         0.01176471]\n",
            " [0.         0.         0.         0.         0.         0.\n",
            "  0.         0.         0.         0.         0.         0.\n",
            "  0.02352941 0.         0.4        0.8        0.69019608 0.5254902\n",
            "  0.56470588 0.48235294 0.09019608 0.         0.         0.\n",
            "  0.         0.04705882 0.03921569 0.        ]\n",
            " [0.         0.         0.         0.         0.         0.\n",
            "  0.         0.         0.         0.         0.         0.\n",
            "  0.         0.         0.60784314 0.9254902  0.81176471 0.69803922\n",
            "  0.41960784 0.61176471 0.63137255 0.42745098 0.25098039 0.09019608\n",
            "  0.30196078 0.50980392 0.28235294 0.05882353]\n",
            " [0.         0.         0.         0.         0.         0.\n",
            "  0.         0.         0.         0.         0.         0.00392157\n",
            "  0.         0.27058824 0.81176471 0.8745098  0.85490196 0.84705882\n",
            "  0.84705882 0.63921569 0.49803922 0.4745098  0.47843137 0.57254902\n",
            "  0.55294118 0.34509804 0.6745098  0.25882353]\n",
            " [0.         0.         0.         0.         0.         0.\n",
            "  0.         0.         0.         0.00392157 0.00392157 0.00392157\n",
            "  0.         0.78431373 0.90980392 0.90980392 0.91372549 0.89803922\n",
            "  0.8745098  0.8745098  0.84313725 0.83529412 0.64313725 0.49803922\n",
            "  0.48235294 0.76862745 0.89803922 0.        ]\n",
            " [0.         0.         0.         0.         0.         0.\n",
            "  0.         0.         0.         0.         0.         0.\n",
            "  0.         0.71764706 0.88235294 0.84705882 0.8745098  0.89411765\n",
            "  0.92156863 0.89019608 0.87843137 0.87058824 0.87843137 0.86666667\n",
            "  0.8745098  0.96078431 0.67843137 0.        ]\n",
            " [0.         0.         0.         0.         0.         0.\n",
            "  0.         0.         0.         0.         0.         0.\n",
            "  0.         0.75686275 0.89411765 0.85490196 0.83529412 0.77647059\n",
            "  0.70588235 0.83137255 0.82352941 0.82745098 0.83529412 0.8745098\n",
            "  0.8627451  0.95294118 0.79215686 0.        ]\n",
            " [0.         0.         0.         0.         0.         0.\n",
            "  0.         0.         0.         0.00392157 0.01176471 0.\n",
            "  0.04705882 0.85882353 0.8627451  0.83137255 0.85490196 0.75294118\n",
            "  0.6627451  0.89019608 0.81568627 0.85490196 0.87843137 0.83137255\n",
            "  0.88627451 0.77254902 0.81960784 0.20392157]\n",
            " [0.         0.         0.         0.         0.         0.\n",
            "  0.         0.         0.         0.         0.02352941 0.\n",
            "  0.38823529 0.95686275 0.87058824 0.8627451  0.85490196 0.79607843\n",
            "  0.77647059 0.86666667 0.84313725 0.83529412 0.87058824 0.8627451\n",
            "  0.96078431 0.46666667 0.65490196 0.21960784]\n",
            " [0.         0.         0.         0.         0.         0.\n",
            "  0.         0.         0.         0.01568627 0.         0.\n",
            "  0.21568627 0.9254902  0.89411765 0.90196078 0.89411765 0.94117647\n",
            "  0.90980392 0.83529412 0.85490196 0.8745098  0.91764706 0.85098039\n",
            "  0.85098039 0.81960784 0.36078431 0.        ]\n",
            " [0.         0.         0.00392157 0.01568627 0.02352941 0.02745098\n",
            "  0.00784314 0.         0.         0.         0.         0.\n",
            "  0.92941176 0.88627451 0.85098039 0.8745098  0.87058824 0.85882353\n",
            "  0.87058824 0.86666667 0.84705882 0.8745098  0.89803922 0.84313725\n",
            "  0.85490196 1.         0.30196078 0.        ]\n",
            " [0.         0.01176471 0.         0.         0.         0.\n",
            "  0.         0.         0.         0.24313725 0.56862745 0.8\n",
            "  0.89411765 0.81176471 0.83529412 0.86666667 0.85490196 0.81568627\n",
            "  0.82745098 0.85490196 0.87843137 0.8745098  0.85882353 0.84313725\n",
            "  0.87843137 0.95686275 0.62352941 0.        ]\n",
            " [0.         0.         0.         0.         0.07058824 0.17254902\n",
            "  0.32156863 0.41960784 0.74117647 0.89411765 0.8627451  0.87058824\n",
            "  0.85098039 0.88627451 0.78431373 0.80392157 0.82745098 0.90196078\n",
            "  0.87843137 0.91764706 0.69019608 0.7372549  0.98039216 0.97254902\n",
            "  0.91372549 0.93333333 0.84313725 0.        ]\n",
            " [0.         0.22352941 0.73333333 0.81568627 0.87843137 0.86666667\n",
            "  0.87843137 0.81568627 0.8        0.83921569 0.81568627 0.81960784\n",
            "  0.78431373 0.62352941 0.96078431 0.75686275 0.80784314 0.8745098\n",
            "  1.         1.         0.86666667 0.91764706 0.86666667 0.82745098\n",
            "  0.8627451  0.90980392 0.96470588 0.        ]\n",
            " [0.01176471 0.79215686 0.89411765 0.87843137 0.86666667 0.82745098\n",
            "  0.82745098 0.83921569 0.80392157 0.80392157 0.80392157 0.8627451\n",
            "  0.94117647 0.31372549 0.58823529 1.         0.89803922 0.86666667\n",
            "  0.7372549  0.60392157 0.74901961 0.82352941 0.8        0.81960784\n",
            "  0.87058824 0.89411765 0.88235294 0.        ]\n",
            " [0.38431373 0.91372549 0.77647059 0.82352941 0.87058824 0.89803922\n",
            "  0.89803922 0.91764706 0.97647059 0.8627451  0.76078431 0.84313725\n",
            "  0.85098039 0.94509804 0.25490196 0.28627451 0.41568627 0.45882353\n",
            "  0.65882353 0.85882353 0.86666667 0.84313725 0.85098039 0.8745098\n",
            "  0.8745098  0.87843137 0.89803922 0.11372549]\n",
            " [0.29411765 0.8        0.83137255 0.8        0.75686275 0.80392157\n",
            "  0.82745098 0.88235294 0.84705882 0.7254902  0.77254902 0.80784314\n",
            "  0.77647059 0.83529412 0.94117647 0.76470588 0.89019608 0.96078431\n",
            "  0.9372549  0.8745098  0.85490196 0.83137255 0.81960784 0.87058824\n",
            "  0.8627451  0.86666667 0.90196078 0.2627451 ]\n",
            " [0.18823529 0.79607843 0.71764706 0.76078431 0.83529412 0.77254902\n",
            "  0.7254902  0.74509804 0.76078431 0.75294118 0.79215686 0.83921569\n",
            "  0.85882353 0.86666667 0.8627451  0.9254902  0.88235294 0.84705882\n",
            "  0.78039216 0.80784314 0.72941176 0.70980392 0.69411765 0.6745098\n",
            "  0.70980392 0.80392157 0.80784314 0.45098039]\n",
            " [0.         0.47843137 0.85882353 0.75686275 0.70196078 0.67058824\n",
            "  0.71764706 0.76862745 0.8        0.82352941 0.83529412 0.81176471\n",
            "  0.82745098 0.82352941 0.78431373 0.76862745 0.76078431 0.74901961\n",
            "  0.76470588 0.74901961 0.77647059 0.75294118 0.69019608 0.61176471\n",
            "  0.65490196 0.69411765 0.82352941 0.36078431]\n",
            " [0.         0.         0.29019608 0.74117647 0.83137255 0.74901961\n",
            "  0.68627451 0.6745098  0.68627451 0.70980392 0.7254902  0.7372549\n",
            "  0.74117647 0.7372549  0.75686275 0.77647059 0.8        0.81960784\n",
            "  0.82352941 0.82352941 0.82745098 0.7372549  0.7372549  0.76078431\n",
            "  0.75294118 0.84705882 0.66666667 0.        ]\n",
            " [0.00784314 0.         0.         0.         0.25882353 0.78431373\n",
            "  0.87058824 0.92941176 0.9372549  0.94901961 0.96470588 0.95294118\n",
            "  0.95686275 0.86666667 0.8627451  0.75686275 0.74901961 0.70196078\n",
            "  0.71372549 0.71372549 0.70980392 0.69019608 0.65098039 0.65882353\n",
            "  0.38823529 0.22745098 0.         0.        ]\n",
            " [0.         0.         0.         0.         0.         0.\n",
            "  0.         0.15686275 0.23921569 0.17254902 0.28235294 0.16078431\n",
            "  0.1372549  0.         0.         0.         0.         0.\n",
            "  0.         0.         0.         0.         0.         0.\n",
            "  0.         0.         0.         0.        ]\n",
            " [0.         0.         0.         0.         0.         0.\n",
            "  0.         0.         0.         0.         0.         0.\n",
            "  0.         0.         0.         0.         0.         0.\n",
            "  0.         0.         0.         0.         0.         0.\n",
            "  0.         0.         0.         0.        ]\n",
            " [0.         0.         0.         0.         0.         0.\n",
            "  0.         0.         0.         0.         0.         0.\n",
            "  0.         0.         0.         0.         0.         0.\n",
            "  0.         0.         0.         0.         0.         0.\n",
            "  0.         0.         0.         0.        ]]\n"
          ],
          "name": "stdout"
        }
      ]
    },
    {
      "metadata": {
        "id": "HaJG2q6kyphY",
        "colab_type": "code",
        "colab": {}
      },
      "cell_type": "code",
      "source": [
        "import tensorflow as tf\n",
        "\n",
        "# Number of node in each layer\n",
        "n_hidden1=512\n",
        "n_hidden2=128\n",
        "n_classes=len(class_names)\n",
        "\n",
        "# Build a model using Keras Sequential\n",
        "model=keras.Sequential()\n",
        "\n",
        "# Add a Flatten layer to the model\n",
        "model.add(keras.layers.Flatten())\n",
        "\n",
        "# Add the first Hidden layer\n",
        "model.add(keras.layers.Dense(n_hidden1,activation=tf.nn.relu))\n",
        "\n",
        "# Add the second Hidden layer\n",
        "model.add(keras.layers.Dense(n_hidden2,activation=tf.nn.relu))\n",
        "\n",
        "# Add the Output layer\n",
        "model.add(keras.layers.Dense(n_classes,activation=tf.nn.softmax))\n",
        "\n",
        "\n",
        "# Compile the model using Adam Optimizer\n",
        "adam_optimizer= keras.optimizers.Adam(lr=0.01)\n",
        "model.compile(optimizer=adam_optimizer, loss=keras.losses.sparse_categorical_crossentropy, metrics=['accuracy'])"
      ],
      "execution_count": 0,
      "outputs": []
    },
    {
      "metadata": {
        "id": "4h72S1QL0G01",
        "colab_type": "code",
        "outputId": "e5350394-00f8-411b-954c-079acd893d58",
        "colab": {
          "base_uri": "https://localhost:8080/",
          "height": 1853
        }
      },
      "cell_type": "code",
      "source": [
        "# Start training the model\n",
        "model.fit(train_images, train_labels,validation_split=0.3, epochs=50)"
      ],
      "execution_count": 19,
      "outputs": [
        {
          "output_type": "stream",
          "text": [
            "Train on 42000 samples, validate on 18000 samples\n",
            "Epoch 1/50\n",
            "42000/42000 [==============================] - 6s 144us/sample - loss: 0.3063 - acc: 0.8944 - val_loss: 0.3123 - val_acc: 0.8923\n",
            "Epoch 2/50\n",
            "42000/42000 [==============================] - 6s 143us/sample - loss: 0.3282 - acc: 0.8898 - val_loss: 0.3266 - val_acc: 0.8861\n",
            "Epoch 3/50\n",
            "42000/42000 [==============================] - 6s 144us/sample - loss: 0.3375 - acc: 0.8859 - val_loss: 0.3959 - val_acc: 0.8658\n",
            "Epoch 4/50\n",
            "42000/42000 [==============================] - 6s 144us/sample - loss: 0.3159 - acc: 0.8912 - val_loss: 0.3517 - val_acc: 0.8847\n",
            "Epoch 5/50\n",
            "42000/42000 [==============================] - 6s 144us/sample - loss: 0.3236 - acc: 0.8917 - val_loss: 0.4077 - val_acc: 0.8629\n",
            "Epoch 6/50\n",
            "42000/42000 [==============================] - 6s 144us/sample - loss: 0.3123 - acc: 0.8963 - val_loss: 0.3072 - val_acc: 0.8920\n",
            "Epoch 7/50\n",
            "42000/42000 [==============================] - 6s 143us/sample - loss: 0.3209 - acc: 0.8923 - val_loss: 0.3149 - val_acc: 0.8914\n",
            "Epoch 8/50\n",
            "42000/42000 [==============================] - 6s 144us/sample - loss: 0.3087 - acc: 0.8961 - val_loss: 0.3379 - val_acc: 0.8849\n",
            "Epoch 9/50\n",
            "42000/42000 [==============================] - 6s 143us/sample - loss: 0.3226 - acc: 0.8915 - val_loss: 0.3419 - val_acc: 0.8863\n",
            "Epoch 10/50\n",
            "42000/42000 [==============================] - 6s 143us/sample - loss: 0.3122 - acc: 0.8948 - val_loss: 0.3696 - val_acc: 0.8876\n",
            "Epoch 11/50\n",
            "42000/42000 [==============================] - 6s 143us/sample - loss: 0.2992 - acc: 0.8964 - val_loss: 0.3541 - val_acc: 0.8838\n",
            "Epoch 12/50\n",
            "42000/42000 [==============================] - 6s 143us/sample - loss: 0.3051 - acc: 0.8954 - val_loss: 0.3401 - val_acc: 0.8924\n",
            "Epoch 13/50\n",
            "42000/42000 [==============================] - 6s 143us/sample - loss: 0.2996 - acc: 0.8977 - val_loss: 0.3327 - val_acc: 0.8921\n",
            "Epoch 14/50\n",
            "42000/42000 [==============================] - 6s 143us/sample - loss: 0.3028 - acc: 0.8976 - val_loss: 0.3285 - val_acc: 0.8877\n",
            "Epoch 15/50\n",
            "42000/42000 [==============================] - 6s 143us/sample - loss: 0.3029 - acc: 0.8975 - val_loss: 0.3804 - val_acc: 0.8811\n",
            "Epoch 16/50\n",
            "42000/42000 [==============================] - 6s 142us/sample - loss: 0.3019 - acc: 0.8979 - val_loss: 0.3397 - val_acc: 0.8886\n",
            "Epoch 17/50\n",
            "42000/42000 [==============================] - 6s 143us/sample - loss: 0.2964 - acc: 0.8980 - val_loss: 0.3546 - val_acc: 0.8897\n",
            "Epoch 18/50\n",
            "42000/42000 [==============================] - 6s 144us/sample - loss: 0.3097 - acc: 0.8977 - val_loss: 0.3965 - val_acc: 0.8731\n",
            "Epoch 19/50\n",
            "42000/42000 [==============================] - 6s 146us/sample - loss: 0.2914 - acc: 0.9003 - val_loss: 0.4017 - val_acc: 0.8757\n",
            "Epoch 20/50\n",
            "42000/42000 [==============================] - 6s 143us/sample - loss: 0.3227 - acc: 0.8936 - val_loss: 0.3609 - val_acc: 0.8867\n",
            "Epoch 21/50\n",
            "42000/42000 [==============================] - 6s 142us/sample - loss: 0.3218 - acc: 0.8963 - val_loss: 0.3429 - val_acc: 0.8885\n",
            "Epoch 22/50\n",
            "42000/42000 [==============================] - 6s 143us/sample - loss: 0.2987 - acc: 0.8989 - val_loss: 0.3524 - val_acc: 0.8879\n",
            "Epoch 23/50\n",
            "42000/42000 [==============================] - 6s 144us/sample - loss: 0.2929 - acc: 0.8997 - val_loss: 0.4098 - val_acc: 0.8721\n",
            "Epoch 24/50\n",
            "42000/42000 [==============================] - 6s 142us/sample - loss: 0.3149 - acc: 0.8956 - val_loss: 0.3543 - val_acc: 0.8896\n",
            "Epoch 25/50\n",
            "42000/42000 [==============================] - 6s 143us/sample - loss: 0.2864 - acc: 0.9009 - val_loss: 0.4226 - val_acc: 0.8745\n",
            "Epoch 26/50\n",
            "42000/42000 [==============================] - 6s 142us/sample - loss: 0.3157 - acc: 0.8950 - val_loss: 0.3878 - val_acc: 0.8834\n",
            "Epoch 27/50\n",
            "42000/42000 [==============================] - 6s 141us/sample - loss: 0.2968 - acc: 0.9015 - val_loss: 0.4052 - val_acc: 0.8808\n",
            "Epoch 28/50\n",
            "42000/42000 [==============================] - 6s 142us/sample - loss: 0.2999 - acc: 0.8964 - val_loss: 0.4669 - val_acc: 0.8618\n",
            "Epoch 29/50\n",
            "42000/42000 [==============================] - 6s 141us/sample - loss: 0.3202 - acc: 0.8934 - val_loss: 0.4000 - val_acc: 0.8812\n",
            "Epoch 30/50\n",
            "42000/42000 [==============================] - 6s 142us/sample - loss: 0.3085 - acc: 0.8963 - val_loss: 0.3666 - val_acc: 0.8845\n",
            "Epoch 31/50\n",
            "42000/42000 [==============================] - 6s 141us/sample - loss: 0.2988 - acc: 0.9022 - val_loss: 0.3694 - val_acc: 0.8807\n",
            "Epoch 32/50\n",
            "42000/42000 [==============================] - 6s 142us/sample - loss: 0.3265 - acc: 0.8901 - val_loss: 0.3735 - val_acc: 0.8799\n",
            "Epoch 33/50\n",
            "42000/42000 [==============================] - 6s 142us/sample - loss: 0.3141 - acc: 0.8956 - val_loss: 0.4387 - val_acc: 0.8759\n",
            "Epoch 34/50\n",
            "42000/42000 [==============================] - 6s 142us/sample - loss: 0.3190 - acc: 0.8888 - val_loss: 0.3857 - val_acc: 0.8759\n",
            "Epoch 35/50\n",
            "42000/42000 [==============================] - 6s 142us/sample - loss: 0.3028 - acc: 0.8955 - val_loss: 0.3733 - val_acc: 0.8870\n",
            "Epoch 36/50\n",
            "42000/42000 [==============================] - 6s 142us/sample - loss: 0.3080 - acc: 0.8949 - val_loss: 0.4349 - val_acc: 0.8616\n",
            "Epoch 37/50\n",
            "42000/42000 [==============================] - 6s 142us/sample - loss: 0.3315 - acc: 0.8891 - val_loss: 0.4067 - val_acc: 0.8726\n",
            "Epoch 38/50\n",
            "42000/42000 [==============================] - 6s 142us/sample - loss: 0.2979 - acc: 0.8993 - val_loss: 0.3700 - val_acc: 0.8897\n",
            "Epoch 39/50\n",
            "42000/42000 [==============================] - 6s 141us/sample - loss: 0.3001 - acc: 0.9002 - val_loss: 0.4122 - val_acc: 0.8787\n",
            "Epoch 40/50\n",
            "42000/42000 [==============================] - 6s 142us/sample - loss: 0.2957 - acc: 0.9008 - val_loss: 0.4189 - val_acc: 0.8711\n",
            "Epoch 41/50\n",
            "42000/42000 [==============================] - 6s 141us/sample - loss: 0.3070 - acc: 0.8954 - val_loss: 0.3652 - val_acc: 0.8852\n",
            "Epoch 42/50\n",
            "42000/42000 [==============================] - 6s 142us/sample - loss: 0.2769 - acc: 0.9055 - val_loss: 0.3831 - val_acc: 0.8821\n",
            "Epoch 43/50\n",
            "42000/42000 [==============================] - 6s 141us/sample - loss: 0.2917 - acc: 0.9019 - val_loss: 0.3842 - val_acc: 0.8853\n",
            "Epoch 44/50\n",
            "42000/42000 [==============================] - 6s 141us/sample - loss: 0.2909 - acc: 0.9018 - val_loss: 0.3934 - val_acc: 0.8781\n",
            "Epoch 45/50\n",
            "42000/42000 [==============================] - 6s 142us/sample - loss: 0.2952 - acc: 0.8996 - val_loss: 0.3788 - val_acc: 0.8882\n",
            "Epoch 46/50\n",
            "42000/42000 [==============================] - 6s 142us/sample - loss: 0.2944 - acc: 0.9010 - val_loss: 0.4953 - val_acc: 0.8807\n",
            "Epoch 47/50\n",
            "42000/42000 [==============================] - 6s 143us/sample - loss: 0.2960 - acc: 0.9016 - val_loss: 0.4233 - val_acc: 0.8777\n",
            "Epoch 48/50\n",
            "42000/42000 [==============================] - 6s 143us/sample - loss: 0.2906 - acc: 0.9054 - val_loss: 0.3929 - val_acc: 0.8780\n",
            "Epoch 49/50\n",
            "42000/42000 [==============================] - 6s 142us/sample - loss: 0.3193 - acc: 0.8979 - val_loss: 0.4072 - val_acc: 0.8834\n",
            "Epoch 50/50\n",
            "42000/42000 [==============================] - 6s 146us/sample - loss: 0.3022 - acc: 0.8983 - val_loss: 0.4245 - val_acc: 0.8685\n"
          ],
          "name": "stdout"
        },
        {
          "output_type": "execute_result",
          "data": {
            "text/plain": [
              "<tensorflow.python.keras.callbacks.History at 0x7f0957054240>"
            ]
          },
          "metadata": {
            "tags": []
          },
          "execution_count": 19
        }
      ]
    },
    {
      "metadata": {
        "id": "mpTduO3GWFEy",
        "colab_type": "code",
        "colab": {
          "base_uri": "https://localhost:8080/",
          "height": 127
        },
        "outputId": "78763ace-5214-45d6-9545-723951c09d93"
      },
      "cell_type": "code",
      "source": [
        "# Mount to Google drive\n",
        "from google.colab import drive\n",
        "drive.mount('/content/drive')"
      ],
      "execution_count": 22,
      "outputs": [
        {
          "output_type": "stream",
          "text": [
            "Go to this URL in a browser: https://accounts.google.com/o/oauth2/auth?client_id=947318989803-6bn6qk8qdgf4n4g3pfee6491hc0brc4i.apps.googleusercontent.com&redirect_uri=urn%3Aietf%3Awg%3Aoauth%3A2.0%3Aoob&scope=email%20https%3A%2F%2Fwww.googleapis.com%2Fauth%2Fdocs.test%20https%3A%2F%2Fwww.googleapis.com%2Fauth%2Fdrive%20https%3A%2F%2Fwww.googleapis.com%2Fauth%2Fdrive.photos.readonly%20https%3A%2F%2Fwww.googleapis.com%2Fauth%2Fpeopleapi.readonly&response_type=code\n",
            "\n",
            "Enter your authorization code:\n",
            "··········\n",
            "Mounted at /content/drive\n"
          ],
          "name": "stdout"
        }
      ]
    },
    {
      "metadata": {
        "id": "scOyxopCWUZL",
        "colab_type": "code",
        "colab": {}
      },
      "cell_type": "code",
      "source": [
        "# Change the working directory\n",
        "import os\n",
        "os.chdir('/content/drive/My Drive/Deep learning with Colab/Saved Models')\n",
        "# Print files and folder in the directory\n",
        "!ls"
      ],
      "execution_count": 0,
      "outputs": []
    },
    {
      "metadata": {
        "id": "8Uk42Z95TiwO",
        "colab_type": "code",
        "colab": {
          "base_uri": "https://localhost:8080/",
          "height": 1439
        },
        "outputId": "1cad010f-95b2-40de-91ac-8998c32aa47e"
      },
      "cell_type": "code",
      "source": [
        "# Stop training if 'val_loss' stops improving for over 10 epochs\n",
        "early_stopping=keras.callbacks.EarlyStopping(monitor='val_loss',patience=10,verbose=1)\n",
        "\n",
        "# Save the best model to .h5 file\n",
        "best_model=keras.callbacks.ModelCheckpoint(filepath='best_model.h5',monitor='val_loss',save_best_only=True,verbose=1)\n",
        "\n",
        "# Start training\n",
        "model.fit(train_images, train_labels,validation_split=0.3, epochs=50,callbacks=[early_stopping,best_model])"
      ],
      "execution_count": 41,
      "outputs": [
        {
          "output_type": "stream",
          "text": [
            "Train on 42000 samples, validate on 18000 samples\n",
            "Epoch 1/50\n",
            "41888/42000 [============================>.] - ETA: 0s - loss: 0.5862 - acc: 0.7975\n",
            "Epoch 00001: val_loss improved from inf to 0.49207, saving model to best_model.h5\n",
            "42000/42000 [==============================] - 9s 206us/sample - loss: 0.5855 - acc: 0.7976 - val_loss: 0.4921 - val_acc: 0.8170\n",
            "Epoch 2/50\n",
            "41888/42000 [============================>.] - ETA: 0s - loss: 0.4568 - acc: 0.8376\n",
            "Epoch 00002: val_loss improved from 0.49207 to 0.46199, saving model to best_model.h5\n",
            "42000/42000 [==============================] - 8s 186us/sample - loss: 0.4565 - acc: 0.8377 - val_loss: 0.4620 - val_acc: 0.8404\n",
            "Epoch 3/50\n",
            "41760/42000 [============================>.] - ETA: 0s - loss: 0.4229 - acc: 0.8493\n",
            "Epoch 00003: val_loss improved from 0.46199 to 0.43004, saving model to best_model.h5\n",
            "42000/42000 [==============================] - 8s 187us/sample - loss: 0.4231 - acc: 0.8494 - val_loss: 0.4300 - val_acc: 0.8509\n",
            "Epoch 4/50\n",
            "41856/42000 [============================>.] - ETA: 0s - loss: 0.4145 - acc: 0.8541\n",
            "Epoch 00004: val_loss did not improve from 0.43004\n",
            "42000/42000 [==============================] - 8s 187us/sample - loss: 0.4145 - acc: 0.8541 - val_loss: 0.4697 - val_acc: 0.8220\n",
            "Epoch 5/50\n",
            "41888/42000 [============================>.] - ETA: 0s - loss: 0.4032 - acc: 0.8573\n",
            "Epoch 00005: val_loss improved from 0.43004 to 0.42468, saving model to best_model.h5\n",
            "42000/42000 [==============================] - 8s 192us/sample - loss: 0.4034 - acc: 0.8573 - val_loss: 0.4247 - val_acc: 0.8577\n",
            "Epoch 6/50\n",
            "41920/42000 [============================>.] - ETA: 0s - loss: 0.3911 - acc: 0.8609\n",
            "Epoch 00006: val_loss improved from 0.42468 to 0.41043, saving model to best_model.h5\n",
            "42000/42000 [==============================] - 8s 193us/sample - loss: 0.3912 - acc: 0.8610 - val_loss: 0.4104 - val_acc: 0.8620\n",
            "Epoch 7/50\n",
            "41856/42000 [============================>.] - ETA: 0s - loss: 0.3866 - acc: 0.8648\n",
            "Epoch 00007: val_loss did not improve from 0.41043\n",
            "42000/42000 [==============================] - 8s 185us/sample - loss: 0.3862 - acc: 0.8649 - val_loss: 0.4207 - val_acc: 0.8549\n",
            "Epoch 8/50\n",
            "41760/42000 [============================>.] - ETA: 0s - loss: 0.3732 - acc: 0.8664\n",
            "Epoch 00008: val_loss did not improve from 0.41043\n",
            "42000/42000 [==============================] - 8s 184us/sample - loss: 0.3740 - acc: 0.8662 - val_loss: 0.4310 - val_acc: 0.8498\n",
            "Epoch 9/50\n",
            "41888/42000 [============================>.] - ETA: 0s - loss: 0.3739 - acc: 0.8689\n",
            "Epoch 00009: val_loss improved from 0.41043 to 0.40102, saving model to best_model.h5\n",
            "42000/42000 [==============================] - 8s 192us/sample - loss: 0.3737 - acc: 0.8690 - val_loss: 0.4010 - val_acc: 0.8561\n",
            "Epoch 10/50\n",
            "41856/42000 [============================>.] - ETA: 0s - loss: 0.3645 - acc: 0.8710\n",
            "Epoch 00010: val_loss did not improve from 0.40102\n",
            "42000/42000 [==============================] - 8s 184us/sample - loss: 0.3649 - acc: 0.8709 - val_loss: 0.4114 - val_acc: 0.8534\n",
            "Epoch 11/50\n",
            "41984/42000 [============================>.] - ETA: 0s - loss: 0.3697 - acc: 0.8687\n",
            "Epoch 00011: val_loss did not improve from 0.40102\n",
            "42000/42000 [==============================] - 8s 183us/sample - loss: 0.3698 - acc: 0.8687 - val_loss: 0.4340 - val_acc: 0.8530\n",
            "Epoch 12/50\n",
            "41696/42000 [============================>.] - ETA: 0s - loss: 0.3655 - acc: 0.8720\n",
            "Epoch 00012: val_loss did not improve from 0.40102\n",
            "42000/42000 [==============================] - 8s 182us/sample - loss: 0.3652 - acc: 0.8721 - val_loss: 0.4191 - val_acc: 0.8558\n",
            "Epoch 13/50\n",
            "41792/42000 [============================>.] - ETA: 0s - loss: 0.3515 - acc: 0.8744\n",
            "Epoch 00013: val_loss did not improve from 0.40102\n",
            "42000/42000 [==============================] - 8s 183us/sample - loss: 0.3516 - acc: 0.8745 - val_loss: 0.4335 - val_acc: 0.8665\n",
            "Epoch 14/50\n",
            "41728/42000 [============================>.] - ETA: 0s - loss: 0.3617 - acc: 0.8743\n",
            "Epoch 00014: val_loss did not improve from 0.40102\n",
            "42000/42000 [==============================] - 8s 183us/sample - loss: 0.3615 - acc: 0.8743 - val_loss: 0.4716 - val_acc: 0.8416\n",
            "Epoch 15/50\n",
            "41856/42000 [============================>.] - ETA: 0s - loss: 0.3485 - acc: 0.8753\n",
            "Epoch 00015: val_loss did not improve from 0.40102\n",
            "42000/42000 [==============================] - 8s 183us/sample - loss: 0.3485 - acc: 0.8754 - val_loss: 0.4307 - val_acc: 0.8569\n",
            "Epoch 16/50\n",
            "41696/42000 [============================>.] - ETA: 0s - loss: 0.3579 - acc: 0.8737\n",
            "Epoch 00016: val_loss did not improve from 0.40102\n",
            "42000/42000 [==============================] - 8s 183us/sample - loss: 0.3579 - acc: 0.8738 - val_loss: 0.4222 - val_acc: 0.8527\n",
            "Epoch 17/50\n",
            "41888/42000 [============================>.] - ETA: 0s - loss: 0.3479 - acc: 0.8782\n",
            "Epoch 00017: val_loss did not improve from 0.40102\n",
            "42000/42000 [==============================] - 8s 184us/sample - loss: 0.3481 - acc: 0.8780 - val_loss: 0.4264 - val_acc: 0.8598\n",
            "Epoch 18/50\n",
            "41888/42000 [============================>.] - ETA: 0s - loss: 0.3470 - acc: 0.8759\n",
            "Epoch 00018: val_loss did not improve from 0.40102\n",
            "42000/42000 [==============================] - 8s 183us/sample - loss: 0.3470 - acc: 0.8758 - val_loss: 0.4289 - val_acc: 0.8624\n",
            "Epoch 19/50\n",
            "41728/42000 [============================>.] - ETA: 0s - loss: 0.3365 - acc: 0.8802\n",
            "Epoch 00019: val_loss did not improve from 0.40102\n",
            "42000/42000 [==============================] - 8s 183us/sample - loss: 0.3366 - acc: 0.8801 - val_loss: 0.4175 - val_acc: 0.8653\n",
            "Epoch 00019: early stopping\n"
          ],
          "name": "stdout"
        },
        {
          "output_type": "execute_result",
          "data": {
            "text/plain": [
              "<tensorflow.python.keras.callbacks.History at 0x7f0955389d68>"
            ]
          },
          "metadata": {
            "tags": []
          },
          "execution_count": 41
        }
      ]
    },
    {
      "metadata": {
        "id": "PP8EM8k34fIG",
        "colab_type": "code",
        "outputId": "45cc6a1b-51ab-4f50-bdec-cab5a0e8b5b2",
        "colab": {
          "base_uri": "https://localhost:8080/",
          "height": 88
        }
      },
      "cell_type": "code",
      "source": [
        "# Load the best model\n",
        "model=keras.models.load_model(filepath='best_model.h5')\n",
        "\n",
        "# Evaluate the model using test set\n",
        "test_loss, test_accuracy=model.evaluate(test_images,test_labels)\n",
        "print('Test accuracy: ',test_accuracy)"
      ],
      "execution_count": 42,
      "outputs": [
        {
          "output_type": "stream",
          "text": [
            "WARNING:tensorflow:Sequential models without an `input_shape` passed to the first layer cannot reload their optimizer state. As a result, your model isstarting with a freshly initialized optimizer.\n",
            "10000/10000 [==============================] - 1s 81us/sample - loss: 0.4316 - acc: 0.8522\n",
            "Test accuracy:  0.8522\n"
          ],
          "name": "stdout"
        }
      ]
    },
    {
      "metadata": {
        "id": "4y4kCMWl6QyH",
        "colab_type": "code",
        "outputId": "698b0717-3ca0-4897-e0da-64724807d9c2",
        "colab": {
          "base_uri": "https://localhost:8080/",
          "height": 536
        }
      },
      "cell_type": "code",
      "source": [
        "import numpy as np\n",
        "\n",
        "# Make prediction\n",
        "preds=model.predict(test_images)\n",
        "\n",
        "# Take the highest value as the predicted class\n",
        "pred_label=np.argmax(preds,axis=1)\n",
        "\n",
        "# Display the first 15 images of the predictions\n",
        "plt.figure(figsize=(10,10))\n",
        "for i in range(15,30):\n",
        "  plt.subplot(3,5,i-14)\n",
        "  plt.xticks([])\n",
        "  plt.yticks([])\n",
        "  plt.imshow(test_images[i])\n",
        "  \n",
        "  # Set the blue color if the prediction is correct\n",
        "  # Otherwise, diesplay red colour\n",
        "  if pred_label[i] == test_labels[i]:\n",
        "    color = 'blue'\n",
        "  else:\n",
        "    color = 'red'\n",
        "  \n",
        "  # Display the prediction\n",
        "  plt.xlabel(\"{} {:2.0f}% \\n ({})\".format(class_names[pred_label[i]],\n",
        "                                100*np.max(preds[i]),\n",
        "                                class_names[test_labels[i]]),\n",
        "                                color=color)"
      ],
      "execution_count": 48,
      "outputs": [
        {
          "output_type": "display_data",
          "data": {
            "image/png": "[encoded data removed]",
            "text/plain": [
              "<Figure size 720x720 with 15 Axes>"
            ]
          },
          "metadata": {
            "tags": []
          }
        }
      ]
    },
    {
      "metadata": {
        "id": "dnuLyJXCLEuP",
        "colab_type": "code",
        "colab": {}
      },
      "cell_type": "code",
      "source": [
        ""
      ],
      "execution_count": 0,
      "outputs": []
    }
  ]
}